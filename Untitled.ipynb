{
 "cells": [
  {
   "cell_type": "code",
   "execution_count": 13,
   "metadata": {
    "collapsed": true
   },
   "outputs": [],
   "source": [
    "import pandas\n",
    "import numpy as np"
   ]
  },
  {
   "cell_type": "code",
   "execution_count": 2,
   "metadata": {
    "collapsed": true
   },
   "outputs": [],
   "source": [
    "?pandas"
   ]
  },
  {
   "cell_type": "code",
   "execution_count": 3,
   "metadata": {
    "collapsed": true
   },
   "outputs": [],
   "source": [
    "?pandas.read_table"
   ]
  },
  {
   "cell_type": "code",
   "execution_count": 4,
   "metadata": {
    "collapsed": true
   },
   "outputs": [],
   "source": [
    "?open"
   ]
  },
  {
   "cell_type": "code",
   "execution_count": 34,
   "metadata": {
    "collapsed": false
   },
   "outputs": [],
   "source": [
    "f1=open(\"C:\\ex2data1.txt\")"
   ]
  },
  {
   "cell_type": "code",
   "execution_count": 33,
   "metadata": {
    "collapsed": false
   },
   "outputs": [
    {
     "ename": "SyntaxError",
     "evalue": "invalid syntax (<ipython-input-33-eea53c6ce592>, line 2)",
     "output_type": "error",
     "traceback": [
      "\u001b[0;36m  File \u001b[0;32m\"<ipython-input-33-eea53c6ce592>\"\u001b[0;36m, line \u001b[0;32m2\u001b[0m\n\u001b[0;31m    np.append(x,(float)f1.readline())\u001b[0m\n\u001b[0m                        ^\u001b[0m\n\u001b[0;31mSyntaxError\u001b[0m\u001b[0;31m:\u001b[0m invalid syntax\n"
     ]
    }
   ],
   "source": [
    "for i in xrange(1,101):\n",
    "    np.append(x,f1.readline())\n",
    "    "
   ]
  },
  {
   "cell_type": "code",
   "execution_count": 21,
   "metadata": {
    "collapsed": false
   },
   "outputs": [],
   "source": [
    "?np.append"
   ]
  },
  {
   "cell_type": "code",
   "execution_count": 12,
   "metadata": {
    "collapsed": true
   },
   "outputs": [],
   "source": [
    "?f1"
   ]
  },
  {
   "cell_type": "code",
   "execution_count": 29,
   "metadata": {
    "collapsed": false
   },
   "outputs": [
    {
     "data": {
      "text/plain": [
       "array([], dtype=float64)"
      ]
     },
     "execution_count": 29,
     "metadata": {},
     "output_type": "execute_result"
    }
   ],
   "source": [
    "x"
   ]
  },
  {
   "cell_type": "code",
   "execution_count": 38,
   "metadata": {
    "collapsed": false
   },
   "outputs": [],
   "source": [
    "?f1.readline()"
   ]
  },
  {
   "cell_type": "code",
   "execution_count": 89,
   "metadata": {
    "collapsed": false
   },
   "outputs": [],
   "source": [
    "f1=pandas.read_table(\"C:\\ex2data1.txt\",sep=',',header=-1)"
   ]
  },
  {
   "cell_type": "code",
   "execution_count": 120,
   "metadata": {
    "collapsed": false
   },
   "outputs": [],
   "source": [
    "for f in xrange(0,100):\n",
    "    x=np.append(x,np.array([[f1[0][f],f1[1][f],f1[2][f]]]))"
   ]
  },
  {
   "cell_type": "code",
   "execution_count": 192,
   "metadata": {
    "collapsed": false
   },
   "outputs": [],
   "source": [
    "x=np.array([[1.,1,1]],ndmin=2)"
   ]
  },
  {
   "cell_type": "code",
   "execution_count": 206,
   "metadata": {
    "collapsed": false
   },
   "outputs": [],
   "source": [
    "?np.array"
   ]
  },
  {
   "cell_type": "code",
   "execution_count": 203,
   "metadata": {
    "collapsed": false
   },
   "outputs": [],
   "source": [
    "x=np.append(x,[1.,1.],axis=0)"
   ]
  },
  {
   "cell_type": "code",
   "execution_count": 204,
   "metadata": {
    "collapsed": false
   },
   "outputs": [
    {
     "data": {
      "text/plain": [
       "array([ 1.,  1.,  1.,  1.,  1.,  1.,  1.,  1.,  1.,  1.,  1.,  1.,  1.])"
      ]
     },
     "execution_count": 204,
     "metadata": {},
     "output_type": "execute_result"
    }
   ],
   "source": [
    "x"
   ]
  },
  {
   "cell_type": "code",
   "execution_count": 205,
   "metadata": {
    "collapsed": true
   },
   "outputs": [],
   "source": [
    "?np.append"
   ]
  },
  {
   "cell_type": "code",
   "execution_count": 128,
   "metadata": {
    "collapsed": false
   },
   "outputs": [],
   "source": [
    "from numpy import doc"
   ]
  },
  {
   "cell_type": "code",
   "execution_count": 131,
   "metadata": {
    "collapsed": false
   },
   "outputs": [
    {
     "name": "stdout",
     "output_type": "stream",
     "text": [
      "Help on module numpy.doc.basics in numpy.doc:\n",
      "\n",
      "NAME\n",
      "    numpy.doc.basics\n",
      "\n",
      "FILE\n",
      "    c:\\program files\\anaconda2\\lib\\site-packages\\numpy\\doc\\basics.py\n",
      "\n",
      "DESCRIPTION\n",
      "    ============\n",
      "    Array basics\n",
      "    ============\n",
      "    \n",
      "    Array types and conversions between types\n",
      "    =========================================\n",
      "    \n",
      "    Numpy supports a much greater variety of numerical types than Python does.\n",
      "    This section shows which are available, and how to modify an array's data-type.\n",
      "    \n",
      "    ==========  ==========================================================\n",
      "    Data type   Description\n",
      "    ==========  ==========================================================\n",
      "    bool_       Boolean (True or False) stored as a byte\n",
      "    int_        Default integer type (same as C ``long``; normally either\n",
      "                ``int64`` or ``int32``)\n",
      "    intc        Identical to C ``int`` (normally ``int32`` or ``int64``)\n",
      "    intp        Integer used for indexing (same as C ``ssize_t``; normally\n",
      "                either ``int32`` or ``int64``)\n",
      "    int8        Byte (-128 to 127)\n",
      "    int16       Integer (-32768 to 32767)\n",
      "    int32       Integer (-2147483648 to 2147483647)\n",
      "    int64       Integer (-9223372036854775808 to 9223372036854775807)\n",
      "    uint8       Unsigned integer (0 to 255)\n",
      "    uint16      Unsigned integer (0 to 65535)\n",
      "    uint32      Unsigned integer (0 to 4294967295)\n",
      "    uint64      Unsigned integer (0 to 18446744073709551615)\n",
      "    float_      Shorthand for ``float64``.\n",
      "    float16     Half precision float: sign bit, 5 bits exponent,\n",
      "                10 bits mantissa\n",
      "    float32     Single precision float: sign bit, 8 bits exponent,\n",
      "                23 bits mantissa\n",
      "    float64     Double precision float: sign bit, 11 bits exponent,\n",
      "                52 bits mantissa\n",
      "    complex_    Shorthand for ``complex128``.\n",
      "    complex64   Complex number, represented by two 32-bit floats (real\n",
      "                and imaginary components)\n",
      "    complex128  Complex number, represented by two 64-bit floats (real\n",
      "                and imaginary components)\n",
      "    ==========  ==========================================================\n",
      "    \n",
      "    Additionally to ``intc`` the platform dependent C integer types ``short``,\n",
      "    ``long``, ``longlong`` and their unsigned versions are defined.\n",
      "    \n",
      "    Numpy numerical types are instances of ``dtype`` (data-type) objects, each\n",
      "    having unique characteristics.  Once you have imported NumPy using\n",
      "    \n",
      "      ::\n",
      "    \n",
      "        >>> import numpy as np\n",
      "    \n",
      "    the dtypes are available as ``np.bool_``, ``np.float32``, etc.\n",
      "    \n",
      "    Advanced types, not listed in the table above, are explored in\n",
      "    section :ref:`structured_arrays`.\n",
      "    \n",
      "    There are 5 basic numerical types representing booleans (bool), integers (int),\n",
      "    unsigned integers (uint) floating point (float) and complex. Those with numbers\n",
      "    in their name indicate the bitsize of the type (i.e. how many bits are needed\n",
      "    to represent a single value in memory).  Some types, such as ``int`` and\n",
      "    ``intp``, have differing bitsizes, dependent on the platforms (e.g. 32-bit\n",
      "    vs. 64-bit machines).  This should be taken into account when interfacing\n",
      "    with low-level code (such as C or Fortran) where the raw memory is addressed.\n",
      "    \n",
      "    Data-types can be used as functions to convert python numbers to array scalars\n",
      "    (see the array scalar section for an explanation), python sequences of numbers\n",
      "    to arrays of that type, or as arguments to the dtype keyword that many numpy\n",
      "    functions or methods accept. Some examples::\n",
      "    \n",
      "        >>> import numpy as np\n",
      "        >>> x = np.float32(1.0)\n",
      "        >>> x\n",
      "        1.0\n",
      "        >>> y = np.int_([1,2,4])\n",
      "        >>> y\n",
      "        array([1, 2, 4])\n",
      "        >>> z = np.arange(3, dtype=np.uint8)\n",
      "        >>> z\n",
      "        array([0, 1, 2], dtype=uint8)\n",
      "    \n",
      "    Array types can also be referred to by character codes, mostly to retain\n",
      "    backward compatibility with older packages such as Numeric.  Some\n",
      "    documentation may still refer to these, for example::\n",
      "    \n",
      "      >>> np.array([1, 2, 3], dtype='f')\n",
      "      array([ 1.,  2.,  3.], dtype=float32)\n",
      "    \n",
      "    We recommend using dtype objects instead.\n",
      "    \n",
      "    To convert the type of an array, use the .astype() method (preferred) or\n",
      "    the type itself as a function. For example: ::\n",
      "    \n",
      "        >>> z.astype(float)                 #doctest: +NORMALIZE_WHITESPACE\n",
      "        array([  0.,  1.,  2.])\n",
      "        >>> np.int8(z)\n",
      "        array([0, 1, 2], dtype=int8)\n",
      "    \n",
      "    Note that, above, we use the *Python* float object as a dtype.  NumPy knows\n",
      "    that ``int`` refers to ``np.int_``, ``bool`` means ``np.bool_``,\n",
      "    that ``float`` is ``np.float_`` and ``complex`` is ``np.complex_``.\n",
      "    The other data-types do not have Python equivalents.\n",
      "    \n",
      "    To determine the type of an array, look at the dtype attribute::\n",
      "    \n",
      "        >>> z.dtype\n",
      "        dtype('uint8')\n",
      "    \n",
      "    dtype objects also contain information about the type, such as its bit-width\n",
      "    and its byte-order.  The data type can also be used indirectly to query\n",
      "    properties of the type, such as whether it is an integer::\n",
      "    \n",
      "        >>> d = np.dtype(int)\n",
      "        >>> d\n",
      "        dtype('int32')\n",
      "    \n",
      "        >>> np.issubdtype(d, int)\n",
      "        True\n",
      "    \n",
      "        >>> np.issubdtype(d, float)\n",
      "        False\n",
      "    \n",
      "    \n",
      "    Array Scalars\n",
      "    =============\n",
      "    \n",
      "    Numpy generally returns elements of arrays as array scalars (a scalar\n",
      "    with an associated dtype).  Array scalars differ from Python scalars, but\n",
      "    for the most part they can be used interchangeably (the primary\n",
      "    exception is for versions of Python older than v2.x, where integer array\n",
      "    scalars cannot act as indices for lists and tuples).  There are some\n",
      "    exceptions, such as when code requires very specific attributes of a scalar\n",
      "    or when it checks specifically whether a value is a Python scalar. Generally,\n",
      "    problems are easily fixed by explicitly converting array scalars\n",
      "    to Python scalars, using the corresponding Python type function\n",
      "    (e.g., ``int``, ``float``, ``complex``, ``str``, ``unicode``).\n",
      "    \n",
      "    The primary advantage of using array scalars is that\n",
      "    they preserve the array type (Python may not have a matching scalar type\n",
      "    available, e.g. ``int16``).  Therefore, the use of array scalars ensures\n",
      "    identical behaviour between arrays and scalars, irrespective of whether the\n",
      "    value is inside an array or not.  NumPy scalars also have many of the same\n",
      "    methods arrays do.\n",
      "    \n",
      "    Extended Precision\n",
      "    ==================\n",
      "    \n",
      "    Python's floating-point numbers are usually 64-bit floating-point numbers,\n",
      "    nearly equivalent to ``np.float64``. In some unusual situations it may be\n",
      "    useful to use floating-point numbers with more precision. Whether this\n",
      "    is possible in numpy depends on the hardware and on the development\n",
      "    environment: specifically, x86 machines provide hardware floating-point\n",
      "    with 80-bit precision, and while most C compilers provide this as their\n",
      "    ``long double`` type, MSVC (standard for Windows builds) makes\n",
      "    ``long double`` identical to ``double`` (64 bits). Numpy makes the\n",
      "    compiler's ``long double`` available as ``np.longdouble`` (and\n",
      "    ``np.clongdouble`` for the complex numbers). You can find out what your\n",
      "    numpy provides with``np.finfo(np.longdouble)``.\n",
      "    \n",
      "    Numpy does not provide a dtype with more precision than C\n",
      "    ``long double``s; in particular, the 128-bit IEEE quad precision\n",
      "    data type (FORTRAN's ``REAL*16``) is not available.\n",
      "    \n",
      "    For efficient memory alignment, ``np.longdouble`` is usually stored\n",
      "    padded with zero bits, either to 96 or 128 bits. Which is more efficient\n",
      "    depends on hardware and development environment; typically on 32-bit\n",
      "    systems they are padded to 96 bits, while on 64-bit systems they are\n",
      "    typically padded to 128 bits. ``np.longdouble`` is padded to the system\n",
      "    default; ``np.float96`` and ``np.float128`` are provided for users who\n",
      "    want specific padding. In spite of the names, ``np.float96`` and\n",
      "    ``np.float128`` provide only as much precision as ``np.longdouble``,\n",
      "    that is, 80 bits on most x86 machines and 64 bits in standard\n",
      "    Windows builds.\n",
      "    \n",
      "    Be warned that even if ``np.longdouble`` offers more precision than\n",
      "    python ``float``, it is easy to lose that extra precision, since\n",
      "    python often forces values to pass through ``float``. For example,\n",
      "    the ``%`` formatting operator requires its arguments to be converted\n",
      "    to standard python types, and it is therefore impossible to preserve\n",
      "    extended precision even if many decimal places are requested. It can\n",
      "    be useful to test your code with the value\n",
      "    ``1 + np.finfo(np.longdouble).eps``.\n",
      "\n",
      "DATA\n",
      "    absolute_import = _Feature((2, 5, 0, 'alpha', 1), (3, 0, 0, 'alpha', 0...\n",
      "    division = _Feature((2, 2, 0, 'alpha', 2), (3, 0, 0, 'alpha', 0), 8192...\n",
      "    print_function = _Feature((2, 6, 0, 'alpha', 2), (3, 0, 0, 'alpha', 0)...\n",
      "\n",
      "\n"
     ]
    }
   ],
   "source": [
    "help(np.doc.basics)"
   ]
  },
  {
   "cell_type": "code",
   "execution_count": 130,
   "metadata": {
    "collapsed": false
   },
   "outputs": [
    {
     "data": {
      "text/plain": [
       "<module 'numpy.doc.basics' from 'C:\\Program Files\\Anaconda2\\lib\\site-packages\\numpy\\doc\\basics.py'>"
      ]
     },
     "execution_count": 130,
     "metadata": {},
     "output_type": "execute_result"
    }
   ],
   "source": [
    "?doc.basics"
   ]
  },
  {
   "cell_type": "code",
   "execution_count": null,
   "metadata": {
    "collapsed": true
   },
   "outputs": [],
   "source": []
  }
 ],
 "metadata": {
  "anaconda-cloud": {},
  "kernelspec": {
   "display_name": "Python [default]",
   "language": "python",
   "name": "python2"
  },
  "language_info": {
   "codemirror_mode": {
    "name": "ipython",
    "version": 2
   },
   "file_extension": ".py",
   "mimetype": "text/x-python",
   "name": "python",
   "nbconvert_exporter": "python",
   "pygments_lexer": "ipython2",
   "version": "2.7.12"
  }
 },
 "nbformat": 4,
 "nbformat_minor": 1
}
