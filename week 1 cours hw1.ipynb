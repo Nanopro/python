{
 "cells": [
  {
   "cell_type": "code",
   "execution_count": 214,
   "metadata": {
    "collapsed": true
   },
   "outputs": [],
   "source": [
    "import pandas as pd\n",
    "import numpy as np\n",
    "import re"
   ]
  },
  {
   "cell_type": "code",
   "execution_count": 18,
   "metadata": {
    "collapsed": false
   },
   "outputs": [],
   "source": [
    "data=pd.read_csv('C:/Users/xx/Downloads/_ea07570741a3ec966e284208f588e50e_titanic (2).csv',index_col='PassengerId')"
   ]
  },
  {
   "cell_type": "code",
   "execution_count": 19,
   "metadata": {
    "collapsed": false,
    "scrolled": true
   },
   "outputs": [
    {
     "data": {
      "text/html": [
       "<div>\n",
       "<table border=\"1\" class=\"dataframe\">\n",
       "  <thead>\n",
       "    <tr style=\"text-align: right;\">\n",
       "      <th></th>\n",
       "      <th>Survived</th>\n",
       "      <th>Pclass</th>\n",
       "      <th>Name</th>\n",
       "      <th>Sex</th>\n",
       "      <th>Age</th>\n",
       "      <th>SibSp</th>\n",
       "      <th>Parch</th>\n",
       "      <th>Ticket</th>\n",
       "      <th>Fare</th>\n",
       "      <th>Cabin</th>\n",
       "      <th>Embarked</th>\n",
       "    </tr>\n",
       "    <tr>\n",
       "      <th>PassengerId</th>\n",
       "      <th></th>\n",
       "      <th></th>\n",
       "      <th></th>\n",
       "      <th></th>\n",
       "      <th></th>\n",
       "      <th></th>\n",
       "      <th></th>\n",
       "      <th></th>\n",
       "      <th></th>\n",
       "      <th></th>\n",
       "      <th></th>\n",
       "    </tr>\n",
       "  </thead>\n",
       "  <tbody>\n",
       "    <tr>\n",
       "      <th>1</th>\n",
       "      <td>0</td>\n",
       "      <td>3</td>\n",
       "      <td>Braund, Mr. Owen Harris</td>\n",
       "      <td>male</td>\n",
       "      <td>22.0</td>\n",
       "      <td>1</td>\n",
       "      <td>0</td>\n",
       "      <td>A/5 21171</td>\n",
       "      <td>7.2500</td>\n",
       "      <td>NaN</td>\n",
       "      <td>S</td>\n",
       "    </tr>\n",
       "    <tr>\n",
       "      <th>2</th>\n",
       "      <td>1</td>\n",
       "      <td>1</td>\n",
       "      <td>Cumings, Mrs. John Bradley (Florence Briggs Th...</td>\n",
       "      <td>female</td>\n",
       "      <td>38.0</td>\n",
       "      <td>1</td>\n",
       "      <td>0</td>\n",
       "      <td>PC 17599</td>\n",
       "      <td>71.2833</td>\n",
       "      <td>C85</td>\n",
       "      <td>C</td>\n",
       "    </tr>\n",
       "    <tr>\n",
       "      <th>3</th>\n",
       "      <td>1</td>\n",
       "      <td>3</td>\n",
       "      <td>Heikkinen, Miss. Laina</td>\n",
       "      <td>female</td>\n",
       "      <td>26.0</td>\n",
       "      <td>0</td>\n",
       "      <td>0</td>\n",
       "      <td>STON/O2. 3101282</td>\n",
       "      <td>7.9250</td>\n",
       "      <td>NaN</td>\n",
       "      <td>S</td>\n",
       "    </tr>\n",
       "    <tr>\n",
       "      <th>4</th>\n",
       "      <td>1</td>\n",
       "      <td>1</td>\n",
       "      <td>Futrelle, Mrs. Jacques Heath (Lily May Peel)</td>\n",
       "      <td>female</td>\n",
       "      <td>35.0</td>\n",
       "      <td>1</td>\n",
       "      <td>0</td>\n",
       "      <td>113803</td>\n",
       "      <td>53.1000</td>\n",
       "      <td>C123</td>\n",
       "      <td>S</td>\n",
       "    </tr>\n",
       "    <tr>\n",
       "      <th>5</th>\n",
       "      <td>0</td>\n",
       "      <td>3</td>\n",
       "      <td>Allen, Mr. William Henry</td>\n",
       "      <td>male</td>\n",
       "      <td>35.0</td>\n",
       "      <td>0</td>\n",
       "      <td>0</td>\n",
       "      <td>373450</td>\n",
       "      <td>8.0500</td>\n",
       "      <td>NaN</td>\n",
       "      <td>S</td>\n",
       "    </tr>\n",
       "  </tbody>\n",
       "</table>\n",
       "</div>"
      ],
      "text/plain": [
       "             Survived  Pclass  \\\n",
       "PassengerId                     \n",
       "1                   0       3   \n",
       "2                   1       1   \n",
       "3                   1       3   \n",
       "4                   1       1   \n",
       "5                   0       3   \n",
       "\n",
       "                                                          Name     Sex   Age  \\\n",
       "PassengerId                                                                    \n",
       "1                                      Braund, Mr. Owen Harris    male  22.0   \n",
       "2            Cumings, Mrs. John Bradley (Florence Briggs Th...  female  38.0   \n",
       "3                                       Heikkinen, Miss. Laina  female  26.0   \n",
       "4                 Futrelle, Mrs. Jacques Heath (Lily May Peel)  female  35.0   \n",
       "5                                     Allen, Mr. William Henry    male  35.0   \n",
       "\n",
       "             SibSp  Parch            Ticket     Fare Cabin Embarked  \n",
       "PassengerId                                                          \n",
       "1                1      0         A/5 21171   7.2500   NaN        S  \n",
       "2                1      0          PC 17599  71.2833   C85        C  \n",
       "3                0      0  STON/O2. 3101282   7.9250   NaN        S  \n",
       "4                1      0            113803  53.1000  C123        S  \n",
       "5                0      0            373450   8.0500   NaN        S  "
      ]
     },
     "execution_count": 19,
     "metadata": {},
     "output_type": "execute_result"
    }
   ],
   "source": [
    "data.head()"
   ]
  },
  {
   "cell_type": "code",
   "execution_count": 163,
   "metadata": {
    "collapsed": false
   },
   "outputs": [
    {
     "data": {
      "text/plain": [
       "male      577\n",
       "female    314\n",
       "Name: Sex, dtype: int64"
      ]
     },
     "execution_count": 163,
     "metadata": {},
     "output_type": "execute_result"
    }
   ],
   "source": [
    "data['Sex'].value_counts()"
   ]
  },
  {
   "cell_type": "code",
   "execution_count": 29,
   "metadata": {
    "collapsed": false
   },
   "outputs": [
    {
     "data": {
      "text/plain": [
       "3    0.551066\n",
       "1    0.242424\n",
       "2    0.206510\n",
       "Name: Pclass, dtype: float64"
      ]
     },
     "execution_count": 29,
     "metadata": {},
     "output_type": "execute_result"
    }
   ],
   "source": [
    "data['Pclass'].value_counts(1)"
   ]
  },
  {
   "cell_type": "code",
   "execution_count": 164,
   "metadata": {
    "collapsed": false
   },
   "outputs": [
    {
     "data": {
      "text/plain": [
       "0    0.616162\n",
       "1    0.383838\n",
       "Name: Survived, dtype: float64"
      ]
     },
     "execution_count": 164,
     "metadata": {},
     "output_type": "execute_result"
    }
   ],
   "source": [
    "data['Survived'].value_counts(1)"
   ]
  },
  {
   "cell_type": "code",
   "execution_count": 22,
   "metadata": {
    "collapsed": false
   },
   "outputs": [
    {
     "data": {
      "text/plain": [
       "0.3838383838383838"
      ]
     },
     "execution_count": 22,
     "metadata": {},
     "output_type": "execute_result"
    }
   ],
   "source": [
    "data['Survived'].mean()"
   ]
  },
  {
   "cell_type": "code",
   "execution_count": 31,
   "metadata": {
    "collapsed": false
   },
   "outputs": [
    {
     "data": {
      "text/plain": [
       "29.69911764705882"
      ]
     },
     "execution_count": 31,
     "metadata": {},
     "output_type": "execute_result"
    }
   ],
   "source": [
    "data['Age'].mean()"
   ]
  },
  {
   "cell_type": "code",
   "execution_count": 33,
   "metadata": {
    "collapsed": false,
    "scrolled": true
   },
   "outputs": [
    {
     "data": {
      "text/plain": [
       "28.0"
      ]
     },
     "execution_count": 33,
     "metadata": {},
     "output_type": "execute_result"
    }
   ],
   "source": [
    "data['Age'].median()"
   ]
  },
  {
   "cell_type": "code",
   "execution_count": 50,
   "metadata": {
    "collapsed": false
   },
   "outputs": [
    {
     "data": {
      "text/plain": [
       "0.41483769862015663"
      ]
     },
     "execution_count": 50,
     "metadata": {},
     "output_type": "execute_result"
    }
   ],
   "source": [
    "data.SibSp.corr(data.Parch,method='pearson')"
   ]
  },
  {
   "cell_type": "code",
   "execution_count": 60,
   "metadata": {
    "collapsed": false
   },
   "outputs": [],
   "source": [
    "r=((data['SibSp']-data['SibSp'].mean())*(data['Parch']-data['Parch'].mean())).sum()/(np.sqrt(((data['SibSp']-data['SibSp'].mean())**2).sum()*((data['Parch']-data['Parch'].mean())**2).sum()))"
   ]
  },
  {
   "cell_type": "code",
   "execution_count": 61,
   "metadata": {
    "collapsed": false
   },
   "outputs": [
    {
     "name": "stdout",
     "output_type": "stream",
     "text": [
      "0.41483769862\n"
     ]
    }
   ],
   "source": [
    "print r"
   ]
  },
  {
   "cell_type": "code",
   "execution_count": 191,
   "metadata": {
    "collapsed": false
   },
   "outputs": [
    {
     "name": "stdout",
     "output_type": "stream",
     "text": [
      "Cumings, Mrs. John Bradley (Florence Briggs Thayer)\n",
      "Heikkinen, Miss. Laina\n",
      "Futrelle, Mrs. Jacques Heath (Lily May Peel)\n",
      "Johnson, Mrs. Oscar W (Elisabeth Vilhelmina Berg)\n",
      "Nasser, Mrs. Nicholas (Adele Achem)\n",
      "Sandstrom, Miss. Marguerite Rut\n",
      "Bonnell, Miss. Elizabeth\n",
      "Vestrom, Miss. Hulda Amanda Adolfina\n",
      "Hewlett, Mrs. (Mary D Kingcome) \n",
      "Vander Planke, Mrs. Julius (Emelia Maria Vandemoortele)\n",
      "Masselmani, Mrs. Fatima\n",
      "McGowan, Miss. Anna \"Annie\"\n",
      "Palsson, Miss. Torborg Danira\n",
      "Asplund, Mrs. Carl Oscar (Selma Augusta Emilia Johansson)\n",
      "O'Dwyer, Miss. Ellen \"Nellie\"\n",
      "Spencer, Mrs. William Augustus (Marie Eugenie)\n",
      "Glynn, Miss. Mary Agatha\n",
      "Vander Planke, Miss. Augusta Maria\n",
      "Nicola-Yarred, Miss. Jamila\n",
      "Ahlin, Mrs. Johan (Johanna Persdotter Larsson)\n",
      "Turpin, Mrs. William John Robert (Dorothy Ann Wonnacott)\n",
      "Laroche, Miss. Simonne Marie Anne Andree\n",
      "Devaney, Miss. Margaret Delia\n",
      "O'Driscoll, Miss. Bridget\n",
      "Arnold-Franchi, Mrs. Josef (Josefine Franchi)\n",
      "Harper, Mrs. Henry Sleeper (Myna Haxtun)\n",
      "Faunthorpe, Mrs. Lizzie (Elizabeth Anne Wilkinson)\n",
      "Rugg, Miss. Emily\n",
      "West, Miss. Constance Mirium\n",
      "Icard, Miss. Amelie\n",
      "Nye, Mrs. (Elizabeth Ramell)\n",
      "Andersson, Miss. Erna Alexandra\n",
      "Goodwin, Miss. Lillian Amy\n",
      "Dowdell, Miss. Elizabeth\n",
      "McDermott, Miss. Brigdet Delia\n",
      "Ilett, Miss. Bertha\n",
      "Backstrom, Mrs. Karl Alfred (Maria Mathilda Gustafsson)\n",
      "Fortune, Miss. Mabel Helen\n",
      "Doling, Mrs. John T (Ada Julia Bone)\n",
      "Petranec, Miss. Matilda\n",
      "Salkjelsvik, Miss. Anna Kristine\n",
      "Moran, Miss. Bertha\n",
      "Zabour, Miss. Hileni\n",
      "Jussila, Miss. Katriina\n",
      "Attalah, Miss. Malake\n",
      "Andersson, Miss. Ellis Anna Maria\n",
      "Webber, Miss. Susan\n",
      "Peter, Miss. Anna\n",
      "Robins, Mrs. Alexander A (Grace Charity Laury)\n",
      "Weisz, Mrs. Leopold (Mathilde Francoise Pede)\n",
      "Newsom, Miss. Helen Monypeny\n",
      "Boulos, Mrs. Joseph (Sultana)\n",
      "Nysten, Miss. Anna Sofia\n",
      "Hakkarainen, Mrs. Pekka Pietari (Elin Matilda Dolck)\n",
      "Ford, Miss. Robina Maggie \"Ruby\"\n",
      "Pears, Mrs. Thomas (Edith Wearne)\n",
      "Gilnagh, Miss. Katherine \"Katie\"\n",
      "Watt, Mrs. James (Elizabeth \"Bessie\" Inglis Milne)\n",
      "Chibnall, Mrs. (Edith Martha Bowerman)\n",
      "Skoog, Mrs. William (Anna Bernhardina Karlsson)\n",
      "Johnson, Miss. Eleanor Ileen\n",
      "Isham, Miss. Ann Elizabeth\n",
      "Sage, Miss. Constance Gladys\n",
      "Kink-Heilmann, Miss. Luise Gretchen\n",
      "O'Brien, Mrs. Thomas (Johanna \"Hannah\" Godfrey)\n",
      "Pinsky, Mrs. (Rosa)\n",
      "Andersen-Jensen, Miss. Carla Christine Nielsine\n",
      "Brown, Mrs. James Joseph (Margaret Tobin)\n",
      "Lurette, Miss. Elise\n",
      "Madigan, Miss. Margaret \"Maggie\"\n",
      "Yrois, Miss. Henriette (\"Mrs Harbeck\")\n",
      "Strom, Miss. Telma Matilda\n",
      "Carr, Miss. Helen \"Ellen\"\n",
      "Cameron, Miss. Clear Annie\n",
      "Newell, Miss. Madeleine\n",
      "Honkanen, Miss. Eliina\n",
      "Bazzani, Miss. Albina\n",
      "Lefebre, Miss. Mathilde\n",
      "Harris, Mrs. Henry Birkhardt (Irene Wallach)\n",
      "Asplund, Miss. Lillian Gertrud\n",
      "Harknett, Miss. Alice Phoebe\n",
      "Collyer, Miss. Marjorie \"Lottie\"\n",
      "Zabour, Miss. Thamine\n",
      "Murphy, Miss. Katherine \"Kate\"\n",
      "Lindahl, Miss. Agda Thorilda Viktoria\n",
      "Hamalainen, Mrs. William (Anna)\n",
      "Strom, Mrs. Wilhelm (Elna Matilda Persson)\n",
      "Rosblom, Mrs. Viktor (Helena Wilhelmina)\n",
      "Touma, Mrs. Darwis (Hanne Youssef Razi)\n",
      "Thorne, Mrs. Gertrude Maybelle\n",
      "Cherry, Miss. Gladys\n",
      "Ward, Miss. Anna\n",
      "Parrish, Mrs. (Lutie Davis)\n",
      "Henry, Miss. Delia\n",
      "Graham, Mrs. William Thompson (Edith Junkins)\n",
      "Bissette, Miss. Amelia\n",
      "Mellinger, Mrs. (Elizabeth Anne Maidment)\n",
      "Healy, Miss. Hanora \"Nora\"\n",
      "Andrews, Miss. Kornelia Theodosia\n",
      "Lindblom, Miss. Augusta Charlotta\n",
      "Abbott, Mrs. Stanton (Rosa Hunt)\n",
      "Connolly, Miss. Kate\n",
      "Barber, Miss. Ellen \"Nellie\"\n",
      "Bishop, Mrs. Dickinson H (Helen Walton)\n",
      "Haas, Miss. Aloisia\n",
      "Allison, Miss. Helen Loraine\n",
      "Baxter, Mrs. James (Helene DeLaudeniere Chaput)\n",
      "Kelly, Miss. Anna Katherine \"Annie Kate\"\n",
      "Keane, Miss. Nora A\n",
      "Fleming, Miss. Margaret\n",
      "Penasco y Castellana, Mrs. Victor de Satode (Maria Josefa Perez de Soto y Vallejo)\n",
      "Francatelli, Miss. Laura Mabel\n",
      "Hays, Miss. Margaret Bechstein\n",
      "Ryerson, Miss. Emily Borie\n",
      "Lahtinen, Mrs. William (Anna Sylfven)\n",
      "Nilsson, Miss. Helmina Josefina\n",
      "Kantor, Mrs. Sinai (Miriam Sternin)\n",
      "Wick, Miss. Mary Natalie\n",
      "Spedden, Mrs. Frederic Oakley (Margaretta Corning Stone)\n",
      "Slayter, Miss. Hilda Mary\n",
      "Caldwell, Mrs. Albert Francis (Sylvia Mae Harbaugh)\n",
      "Young, Miss. Marie Grice\n",
      "Ball, Mrs. (Ada E Hall)\n",
      "Goldsmith, Mrs. Frank John (Emily Alice Brown)\n",
      "Hippach, Miss. Jean Gertrude\n",
      "McCoy, Miss. Agnes\n",
      "Frauenthal, Mrs. Henry William (Clara Heinsheimer)\n",
      "Burns, Miss. Elizabeth Margaret\n",
      "Fortune, Miss. Alice Elizabeth\n",
      "Brown, Miss. Amelia \"Mildred\"\n",
      "Smith, Miss. Marion Elsie\n",
      "Davison, Mrs. Thomas Henry (Mary E Finck)\n",
      "Bowerman, Miss. Elsie Edith\n",
      "Funk, Miss. Annie Clemmer\n",
      "McGovern, Miss. Mary\n",
      "Mockler, Miss. Helen Mary \"Ellie\"\n",
      "Barbara, Mrs. (Catherine David)\n",
      "Warren, Mrs. Frank Manley (Anna Sophia Atkinson)\n",
      "Moussa, Mrs. (Mantoura Boulos)\n",
      "Jermyn, Miss. Annie\n",
      "Aubart, Mme. Leontine Pauline\n",
      "Palsson, Miss. Stina Viola\n",
      "Meyer, Mrs. Edgar Joseph (Leila Saks)\n",
      "Landergren, Miss. Aurora Adelia\n",
      "Bidois, Miss. Rosalie\n",
      "Nakid, Miss. Maria (\"Mary\")\n",
      "Holverson, Mrs. Alexander Oskar (Mary Aline Towner)\n",
      "Buss, Miss. Kate\n",
      "Lehmann, Miss. Bertha\n",
      "Newell, Miss. Marjorie\n",
      "Sandstrom, Mrs. Hjalmar (Agnes Charlotta Bengtsson)\n",
      "Olsson, Miss. Elina\n",
      "Trout, Mrs. William H (Jessie L)\n",
      "Jussila, Miss. Mari Aina\n",
      "Oreskovic, Miss. Marija\n",
      "Lefebre, Miss. Ida\n",
      "Minahan, Miss. Daisy E\n",
      "Meek, Mrs. Thomas (Annie Louise Rowley)\n",
      "Drew, Mrs. James Vivian (Lulu Thorne Christian)\n",
      "Silven, Miss. Lyyli Karoliina\n",
      "Van Impe, Miss. Catharina\n",
      "Danbom, Mrs. Ernst Gilbert (Anna Sigrid Maria Brogren)\n",
      "Clarke, Mrs. Charles V (Ada Maria Winfield)\n",
      "Phillips, Miss. Kate Florence (\"Mrs Kate Louise Phillips Marshall\")\n",
      "Thorneycroft, Mrs. Percival (Florence Kate White)\n",
      "Louch, Mrs. Charles Alexander (Alice Adelaide Slow)\n",
      "Carter, Miss. Lucile Polk\n",
      "Ford, Miss. Doolina Margaret \"Daisy\"\n",
      "Richards, Mrs. Sidney (Emily Hocking)\n",
      "Hart, Mrs. Benjamin (Esther Ada Bloomfield)\n",
      "Reynaldo, Ms. Encarnacion\n",
      "Mellinger, Miss. Madeleine Violet\n",
      "Baclini, Miss. Marie Catherine\n",
      "Kenyon, Mrs. Frederick R (Marion)\n",
      "Toomey, Miss. Ellen\n",
      "Baclini, Miss. Helene Barbara\n",
      "West, Mrs. Edwy Arthur (Ada Mary Worth)\n",
      "Jerwan, Mrs. Amin S (Marie Marthe Thuillard)\n",
      "Strandberg, Miss. Ida Sofia\n",
      "Hirvonen, Miss. Hildur E\n",
      "Turkula, Mrs. (Hedwig)\n",
      "Lefebre, Miss. Jeannie\n",
      "Hoyt, Mrs. Frederick Maxfield (Jane Anne Forby)\n",
      "Eustis, Miss. Elizabeth Mussey\n",
      "Allison, Mrs. Hudson J C (Bessie Waldo Daniels)\n",
      "Canavan, Miss. Mary\n",
      "O'Sullivan, Miss. Bridget Mary\n",
      "Laitinen, Miss. Kristina Sofia\n",
      "Maioni, Miss. Roberta\n",
      "Quick, Mrs. Frederick Charles (Jane Richards)\n",
      "Rothschild, Mrs. Martin (Elizabeth L. Barrett)\n",
      "Lemore, Mrs. (Amelia Milley)\n",
      "Angle, Mrs. William A (Florence \"Mary\" Agnes Hughes)\n",
      "Perreault, Miss. Anne\n",
      "Hippach, Mrs. Louis Albert (Ida Sophia Fischer)\n",
      "Ridsdale, Miss. Lucy\n",
      "Quick, Miss. Phyllis May\n",
      "Peter, Mrs. Catherine (Catherine Rizk)\n",
      "Cacic, Miss. Marija\n",
      "Hart, Miss. Eva Miriam\n",
      "LeRoy, Miss. Bertha\n",
      "Frolicher, Miss. Hedwig Margaritha\n",
      "Crosby, Miss. Harriet R\n",
      "Andersson, Miss. Ingeborg Constanzia\n",
      "Andersson, Miss. Sigrid Elisabeth\n",
      "Beane, Mrs. Edward (Ethel Clarke)\n",
      "Ohman, Miss. Velin\n",
      "Duff Gordon, Lady. (Lucille Christiana Sutherland) (\"Mrs Morgan\")\n",
      "Taussig, Mrs. Emil (Tillie Mandelbaum)\n",
      "de Messemaeker, Mrs. Guillaume Joseph (Emma)\n",
      "Meanwell, Miss. (Marion Ogden)\n",
      "Palsson, Mrs. Nils (Alma Cornelia Berglund)\n",
      "Appleton, Mrs. Edward Dale (Charlotte Lamson)\n",
      "Kelly, Miss. Mary\n",
      "Garside, Miss. Ethel\n",
      "Silvey, Mrs. William Baird (Alice Munger)\n",
      "Caram, Mrs. Joseph (Maria Elias)\n",
      "Christy, Miss. Julie Rachel\n",
      "Thayer, Mrs. John Borland (Marian Longstreth Morris)\n",
      "Taussig, Miss. Ruth\n",
      "Stephenson, Mrs. Walter Bertram (Martha Eustis)\n",
      "Bourke, Miss. Mary\n",
      "Leitch, Miss. Jessie Wills\n",
      "Jacobsohn, Mrs. Sidney Samuel (Amy Frances Christy)\n",
      "Laroche, Mrs. Joseph (Juliette Marie Louise Lafargue)\n",
      "Shutes, Miss. Elizabeth W\n",
      "Andersson, Mrs. Anders Johan (Alfrida Konstantia Brogren)\n",
      "Murphy, Miss. Margaret Jane\n",
      "Herman, Miss. Alice\n",
      "Lobb, Mrs. William Arthur (Cordelia K Stanlick)\n",
      "Becker, Miss. Marion Louise\n",
      "Longley, Miss. Gretchen Fiske\n",
      "Skoog, Miss. Mabel\n",
      "Davis, Miss. Mary\n",
      "Panula, Mrs. Juha (Maria Emilia Ojala)\n",
      "Sagesser, Mlle. Emma\n",
      "Skoog, Miss. Margit Elizabeth\n",
      "Baclini, Miss. Eugenie\n",
      "Stanley, Miss. Amy Zillah Elsie\n",
      "Doling, Miss. Elsie\n",
      "O'Leary, Miss. Hanora \"Norah\"\n",
      "Hegarty, Miss. Hanora \"Nora\"\n",
      "Bourke, Mrs. John (Catherine)\n",
      "Taylor, Mrs. Elmer Zebley (Juliet Cummins Wright)\n",
      "Brown, Mrs. Thomas William Solomon (Elizabeth Catherine Ford)\n",
      "Turja, Miss. Anna Sofia\n",
      "Goodwin, Mrs. Frederick (Augusta Tyler)\n",
      "Peters, Miss. Katie\n",
      "Madill, Miss. Georgette Alexandra\n",
      "Karun, Miss. Manca\n",
      "Mullens, Miss. Katherine \"Katie\"\n",
      "Astor, Mrs. John Jacob (Madeleine Talmadge Force)\n",
      "Barbara, Miss. Saiide\n",
      "Kelly, Mrs. Florence \"Fannie\"\n",
      "Cleaver, Miss. Alice\n",
      "Mayne, Mlle. Berthe Antonine (\"Mrs de Villiers\")\n",
      "Endres, Miss. Caroline Louise\n",
      "Troutt, Miss. Edwina Celia \"Winnie\"\n",
      "Harper, Miss. Annie Jessie \"Nina\"\n",
      "Renouf, Mrs. Peter Henry (Lillian Jefferys)\n",
      "Mannion, Miss. Margareth\n",
      "Ilmakangas, Miss. Pieta Sofia\n",
      "Allen, Miss. Elisabeth Walton\n",
      "Ford, Mrs. Edward (Margaret Ann Watson)\n",
      "Ryerson, Miss. Susan Parker \"Suzette\"\n",
      "Sinkkonen, Miss. Anna\n",
      "Wells, Miss. Joan\n",
      "Herman, Mrs. Samuel (Jane Laver)\n",
      "Rothes, the Countess. of (Lucy Noel Martha Dyer-Edwards)\n",
      "Carter, Mrs. William Ernest (Lucile Polk)\n",
      "Hogeboom, Mrs. John C (Anna Andrews)\n",
      "Mangan, Miss. Mary\n",
      "Mack, Mrs. (Mary)\n",
      "Hocking, Mrs. Elizabeth (Eliza Needs)\n",
      "Emanuel, Miss. Virginia Ethel\n",
      "Robert, Mrs. Edward Scott (Elisabeth Walton McMillan)\n",
      "Ayoub, Miss. Banoura\n",
      "Dick, Mrs. Albert Adrian (Vera Gillespie)\n",
      "Sjoblom, Miss. Anna Sofia\n",
      "Sage, Miss. Stella Anna\n",
      "Leader, Dr. Alice (Farnham)\n",
      "Osman, Mrs. Mara\n",
      "Van Impe, Mrs. Jean Baptiste (Rosalie Paula Govaert)\n",
      "Collyer, Mrs. Harvey (Charlotte Annie Tate)\n",
      "Pettersson, Miss. Ellen Natalia\n",
      "Chambers, Mrs. Norman Campbell (Bertha Griggs)\n",
      "Andersson, Miss. Ebba Iris Alfrida\n",
      "Heininen, Miss. Wendla Maria\n",
      "Hays, Mrs. Charles Melville (Clara Jennings Gregg)\n",
      "Moor, Mrs. (Beila)\n",
      "Stone, Mrs. George Nelson (Martha Evelyn)\n",
      "Yasbeck, Mrs. Antoni (Selini Alexander)\n",
      "Compton, Miss. Sara Rebecca\n",
      "Serepeca, Miss. Augusta\n",
      "Goldenberg, Mrs. Samuel L (Edwiga Grabowska)\n",
      "Boulos, Miss. Nourelain\n",
      "Lines, Miss. Mary Conover\n",
      "Carter, Mrs. Ernest Courtenay (Lilian Hughes)\n",
      "Aks, Mrs. Sam (Leah Rosen)\n",
      "Wick, Mrs. George Dennick (Mary Hitchcock)\n",
      "Baclini, Mrs. Solomon (Latifa Qurban)\n",
      "Swift, Mrs. Frederick Joel (Margaret Welles Barron)\n",
      "Sage, Miss. Dorothy Edith \"Dolly\"\n",
      "Bystrom, Mrs. (Karolina)\n",
      "Duran y More, Miss. Asuncion\n",
      "Beckwith, Mrs. Richard Leonard (Sallie Monypeny)\n",
      "Abelson, Mrs. Samuel (Hannah Wizosky)\n",
      "Najib, Miss. Adele Kiamie \"Jane\"\n",
      "Potter, Mrs. Thomas Jr (Lily Alexenia Wilson)\n",
      "Shelley, Mrs. William (Imanita Parrish Hall)\n",
      "Dahlberg, Miss. Gerda Ulrika\n",
      "Rice, Mrs. William (Margaret Norton)\n",
      "Graham, Miss. Margaret Edith\n",
      "Johnston, Miss. Catherine Helen \"Carrie\"\n"
     ]
    }
   ],
   "source": [
    "m= data[data['Sex'] == 'female']['Name']\n",
    "for st in m:\n",
    "    print st"
   ]
  },
  {
   "cell_type": "code",
   "execution_count": 208,
   "metadata": {
    "collapsed": false
   },
   "outputs": [],
   "source": [
    "namesss=np.array([])\n",
    "for st in m:\n",
    "        namesss=np.append(namesss, st[st.find(\"Miss. \")+5:st.find(\"(\")])"
   ]
  },
  {
   "cell_type": "code",
   "execution_count": 218,
   "metadata": {
    "collapsed": false,
    "scrolled": true
   },
   "outputs": [
    {
     "name": "stdout",
     "output_type": "stream",
     "text": [
      "Anna         15\n",
      "Mary         14\n",
      "Elizabeth    11\n",
      "Margaret     10\n",
      "Alice         6\n",
      "Helen         5\n",
      "Bertha        5\n",
      "Emily         4\n",
      "Marie         4\n",
      "\"Mrs          4\n",
      "Catherine     4\n",
      "Ellen         4\n",
      "Annie         4\n",
      "Florence      4\n",
      "Marion        4\n",
      "Augusta       4\n",
      "Maria         4\n",
      "Ada           4\n",
      "Lillian       3\n",
      "Madeleine     3\n",
      "Amelia        3\n",
      "Ida           3\n",
      "Edith         3\n",
      "Elisabeth     3\n",
      "Hanora        3\n",
      "Jane          3\n",
      "Katherine     3\n",
      "Rosa          2\n",
      "Bridget       2\n",
      "Lily          2\n",
      "             ..\n",
      "Eliza         1\n",
      "Margareth     1\n",
      "Katriina      1\n",
      "Lyyli         1\n",
      "Elin          1\n",
      "Stina         1\n",
      "Ann           1\n",
      "Malake        1\n",
      "Robina        1\n",
      "Brigdet       1\n",
      "Helena        1\n",
      "Carla         1\n",
      "Torborg       1\n",
      "Tillie        1\n",
      "Mara          1\n",
      "Elise         1\n",
      "Alfrida       1\n",
      "Nourelain     1\n",
      "Edwiga        1\n",
      "Manca         1\n",
      "Aloisia       1\n",
      "Gertrude      1\n",
      "Ingeborg      1\n",
      "Wendla        1\n",
      "Ellis         1\n",
      "Daisy         1\n",
      "Juliet        1\n",
      "Juliette      1\n",
      "\"Mary\"        1\n",
      "Sara          1\n",
      "Name: Name, dtype: int64\n"
     ]
    }
   ],
   "source": [
    "fn = data[data['Sex'] == 'female']['Name']\n",
    "def extract_first_name(name):\n",
    "    \"\"\"\n",
    "    Функция извлечения first name from name\n",
    "    :param name: name\n",
    "    :return: first name\n",
    "    \"\"\"\n",
    "    # первое слово в скобках\n",
    "    m = re.search(\".*\\\\((.*)\\\\).*\", name)\n",
    "    if m is not None:\n",
    "        return m.group(1).split(\" \")[0]\n",
    "    # первое слово после Mrs. or Miss. or else\n",
    "    m1 = re.search(\".*\\\\. ([A-Za-z]*)\", name)\n",
    "    return m1.group(1)\n",
    "\n",
    "# получаем имя с максимальной частотой\n",
    "r = fn.map(lambda full_name: extract_first_name(full_name)).value_counts()\n",
    "print(r)"
   ]
  },
  {
   "cell_type": "code",
   "execution_count": 217,
   "metadata": {
    "collapsed": false,
    "scrolled": true
   },
   "outputs": [
    {
     "data": {
      "text/plain": [
       "PassengerId\n",
       "2        Florence\n",
       "3           Laina\n",
       "4            Lily\n",
       "9       Elisabeth\n",
       "10          Adele\n",
       "11     Marguerite\n",
       "12      Elizabeth\n",
       "15          Hulda\n",
       "16           Mary\n",
       "19         Emelia\n",
       "20         Fatima\n",
       "23           Anna\n",
       "25        Torborg\n",
       "26          Selma\n",
       "29          Ellen\n",
       "32          Marie\n",
       "33           Mary\n",
       "39        Augusta\n",
       "40         Jamila\n",
       "41        Johanna\n",
       "42        Dorothy\n",
       "44        Simonne\n",
       "45       Margaret\n",
       "48        Bridget\n",
       "50       Josefine\n",
       "53           Myna\n",
       "54      Elizabeth\n",
       "57          Emily\n",
       "59      Constance\n",
       "62         Amelie\n",
       "          ...    \n",
       "808         Ellen\n",
       "810        Bertha\n",
       "814          Ebba\n",
       "817        Wendla\n",
       "821         Clara\n",
       "824         Beila\n",
       "830        Martha\n",
       "831        Selini\n",
       "836          Sara\n",
       "843       Augusta\n",
       "850        Edwiga\n",
       "853     Nourelain\n",
       "854          Mary\n",
       "855        Lilian\n",
       "856          Leah\n",
       "857          Mary\n",
       "859        Latifa\n",
       "863      Margaret\n",
       "864       Dorothy\n",
       "866      Karolina\n",
       "867      Asuncion\n",
       "872        Sallie\n",
       "875        Hannah\n",
       "876         Adele\n",
       "880          Lily\n",
       "881       Imanita\n",
       "883         Gerda\n",
       "886      Margaret\n",
       "888      Margaret\n",
       "889     Catherine\n",
       "Name: Name, dtype: object"
      ]
     },
     "execution_count": 217,
     "metadata": {},
     "output_type": "execute_result"
    }
   ],
   "source": [
    "fn.map(lambda full:extract_first_name(full))"
   ]
  },
  {
   "cell_type": "code",
   "execution_count": null,
   "metadata": {
    "collapsed": true
   },
   "outputs": [],
   "source": [
    "re.search()"
   ]
  }
 ],
 "metadata": {
  "kernelspec": {
   "display_name": "Python [Root]",
   "language": "python",
   "name": "Python [Root]"
  },
  "language_info": {
   "codemirror_mode": {
    "name": "ipython",
    "version": 2
   },
   "file_extension": ".py",
   "mimetype": "text/x-python",
   "name": "python",
   "nbconvert_exporter": "python",
   "pygments_lexer": "ipython2",
   "version": "2.7.12"
  }
 },
 "nbformat": 4,
 "nbformat_minor": 0
}
