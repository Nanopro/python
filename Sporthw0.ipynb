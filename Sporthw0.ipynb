{
 "cells": [
  {
   "cell_type": "code",
   "execution_count": 82,
   "metadata": {
    "collapsed": false
   },
   "outputs": [],
   "source": [
    "import numpy as np # calculations with arrays\n",
    "import pandas as pd # user-friendly DataFrames for data representation\n",
    "import sklearn # machine learning algorithms\n",
    "from sklearn import ensemble, linear_model\n",
    "from sklearn.metrics import log_loss\n",
    "from sklearn import svm\n",
    "\n",
    "import matplotlib.pyplot as plt # import plot functions\n",
    "# necessary to plot in jupyter notebook:\n",
    "%matplotlib inline\n",
    "import seaborn as sns # make plots beautiful"
   ]
  },
  {
   "cell_type": "code",
   "execution_count": 10,
   "metadata": {
    "collapsed": false
   },
   "outputs": [],
   "source": [
    "train = pd.read_csv('train2.csv')\n",
    "test = pd.read_csv('test2.csv')\n",
    "sample_submission = pd.read_csv('sample_submission.csv')"
   ]
  },
  {
   "cell_type": "code",
   "execution_count": 9,
   "metadata": {
    "collapsed": false
   },
   "outputs": [
    {
     "data": {
      "text/html": [
       "<div>\n",
       "<table border=\"1\" class=\"dataframe\">\n",
       "  <thead>\n",
       "    <tr style=\"text-align: right;\">\n",
       "      <th></th>\n",
       "      <th>year</th>\n",
       "      <th>day</th>\n",
       "      <th>team1</th>\n",
       "      <th>team2</th>\n",
       "      <th>score1</th>\n",
       "      <th>score2</th>\n",
       "      <th>target</th>\n",
       "    </tr>\n",
       "  </thead>\n",
       "  <tbody>\n",
       "    <tr>\n",
       "      <th>0</th>\n",
       "      <td>2998</td>\n",
       "      <td>19</td>\n",
       "      <td>317</td>\n",
       "      <td>131</td>\n",
       "      <td>336</td>\n",
       "      <td>278</td>\n",
       "      <td>True</td>\n",
       "    </tr>\n",
       "  </tbody>\n",
       "</table>\n",
       "</div>"
      ],
      "text/plain": [
       "   year  day  team1  team2  score1  score2 target\n",
       "0  2998   19    317    131     336     278   True"
      ]
     },
     "execution_count": 9,
     "metadata": {},
     "output_type": "execute_result"
    }
   ],
   "source": [
    "train[:1]"
   ]
  },
  {
   "cell_type": "code",
   "execution_count": 12,
   "metadata": {
    "collapsed": false
   },
   "outputs": [
    {
     "data": {
      "text/html": [
       "<div>\n",
       "<table border=\"1\" class=\"dataframe\">\n",
       "  <thead>\n",
       "    <tr style=\"text-align: right;\">\n",
       "      <th></th>\n",
       "      <th>Id</th>\n",
       "      <th>year</th>\n",
       "      <th>team1</th>\n",
       "      <th>team2</th>\n",
       "    </tr>\n",
       "  </thead>\n",
       "  <tbody>\n",
       "    <tr>\n",
       "      <th>0</th>\n",
       "      <td>0</td>\n",
       "      <td>3021</td>\n",
       "      <td>363</td>\n",
       "      <td>161</td>\n",
       "    </tr>\n",
       "  </tbody>\n",
       "</table>\n",
       "</div>"
      ],
      "text/plain": [
       "   Id  year  team1  team2\n",
       "0   0  3021    363    161"
      ]
     },
     "execution_count": 12,
     "metadata": {},
     "output_type": "execute_result"
    }
   ],
   "source": [
    "test[:1]"
   ]
  },
  {
   "cell_type": "code",
   "execution_count": 13,
   "metadata": {
    "collapsed": false
   },
   "outputs": [
    {
     "data": {
      "text/html": [
       "<div>\n",
       "<table border=\"1\" class=\"dataframe\">\n",
       "  <thead>\n",
       "    <tr style=\"text-align: right;\">\n",
       "      <th></th>\n",
       "      <th>Id</th>\n",
       "      <th>target</th>\n",
       "    </tr>\n",
       "  </thead>\n",
       "  <tbody>\n",
       "    <tr>\n",
       "      <th>0</th>\n",
       "      <td>0</td>\n",
       "      <td>0.5</td>\n",
       "    </tr>\n",
       "  </tbody>\n",
       "</table>\n",
       "</div>"
      ],
      "text/plain": [
       "   Id  target\n",
       "0   0     0.5"
      ]
     },
     "execution_count": 13,
     "metadata": {},
     "output_type": "execute_result"
    }
   ],
   "source": [
    "sample_submission[:1]"
   ]
  },
  {
   "cell_type": "code",
   "execution_count": 76,
   "metadata": {
    "collapsed": false
   },
   "outputs": [
    {
     "name": "stdout",
     "output_type": "stream",
     "text": [
      "year [2998 2999 3000 3001 3002 3003 3004 3005 3006 3007 3008 3009 3010 3011 3012\n",
      " 3013 3014 3015 3016 3017 3018 3019]\n",
      "day [ 19  28  30  31  33  35  37  38  40  42  44  46  47  49  51  53  54  56\n",
      "  58  60  61  63  65  67  69  70  72  74  76  77  79  81  83  84  86  93\n",
      "  95  97  99 100 104 106 107 109 111 113 115 116 118 120 122 123 125 127\n",
      " 129 130 132 134 136 138 139 141 143 145 146 148 150 152 153 155 157 159\n",
      " 161 162 164 166 168 169 171 173 175 177 178 180 182 184 185 187 189 191\n",
      " 192 194 196 198 200 201 203 205 207 208 210 212 214 215 217 219 221 223\n",
      " 224 226 228 230 231 233  88  90 102  92  26  21  23  24  17  14  15   0\n",
      "   1   3   5   7   8  10  12]\n",
      "team1 [317  61 110 352 229 164 184 245 300  10  39 205  47 180  53  63  82 265\n",
      "  70 150 188 161 241 273 232 201 207 146 206 234 260 250 283 302 291 272\n",
      " 351 159 295 308  48  59   4  14  65 310 287  38  78  50  96 104 198 337\n",
      " 134 320 327 157 163 168 192 204 217 220 237 248 268 285 249 126 326 331\n",
      " 129 334  92 347 322 158 353 160 361 135 336  54  69  16  43  51  32 254\n",
      "  60  68  73 191  87 132  90  91  11 202  80 177 179  45 325 208 128 274\n",
      " 303 211 323 299 356 344 355 269  29 259  13 258  35  31  33 329  64 133\n",
      " 124 139 173 142 178  17 185 210 226 228 238 209 239 100 278 293 247 321\n",
      "  74 187 122 236 244 256 275 312 196  56 172 288  85  26 101 111 118 174\n",
      " 182 339  20 316 262 328 338 340 190  19 218  30 175  55  81  83 102 116\n",
      " 120  57 319 151 233 181 186 281 306 221 364 148 357 193 286 230  44 284\n",
      " 290 314 153 324 121 348 358 362 108 214   6 141 156 169  58 335 112 167\n",
      " 264 165 305 343 342  72  23 298 131 145  97 243 318  99 296 360 301  52\n",
      "  71 271 225 106  40 223 276 297 107 350 252 154 166 235 311 289  84 138\n",
      " 341   3  12  41  49 222 143  66 251 253  22  37 219 261 109  98   8  75\n",
      " 263 147 333  93 282 103  77 176 170 280  79 125  34  86 279 309 149 117\n",
      "   2  24 171 183 349 199 354 363 127  62 304 231 307  94  42 114 359 140\n",
      " 213 246 137  15 240  76   7 257  89 292   5 224  25 119  27 189 315 136\n",
      " 266 294 105  28 152 194 155 330 313 255 144 195 216 212  46 345 123 267\n",
      " 242  95 200  67 215  88  36 270 277 203 197]\n",
      "team2 [131  29 141 146  91 238 243  23 349 110 245 310  69  43 112  51  22 116\n",
      " 312 101 125 117 158 319 166 169 185  98 126 244 249 261 264 271 274 278\n",
      " 281 288 290 268 259 350 363  72   8  19  33  45  48  52  10  58  97  26\n",
      " 120 122 171 142 143 124 219 191  17 258 207 303 318 234 139 218 210 295\n",
      " 328 311 333   2 344 251 348 269 358 156 184 214 256 178  24 188 153 354\n",
      "  92  56  57 306 262  75  81  83 297 104 127 150 170 149 138 181 204 298\n",
      " 236  13 260 301 196 308 322 335 148 338 160 361   6  30  37 223  40 154\n",
      " 357  78  82  96  99 108 342  66  14  62 177 183 106 263 283 175 276 229\n",
      " 233  86 248  65 309 341 282 111 305   4 291 192  38 300 343 279 190  12\n",
      "  77  80 100 186 147 163 180 211 250 285 135  44 326 235 351   3 340  34\n",
      "  53 187 316 202  84  87 173 103 299  71 164 128 241  73  85 225 237 133\n",
      " 253 254  60 321 317 161  70  93 198 239  59 265  16 206  50  63 230 209\n",
      " 176 199 221 222 132 252 273 325 352 356  68 337  79 159 172 293 208  32\n",
      "  20  41  49 226 284 334 339 327  39  64 157 324 323 201 280 314 174 134\n",
      " 193 165 360 145 121  47  55 355 220 320 362 205 228 302 364 129 275 286\n",
      "  61 329 353 109  54 107 247  74 296 118 232 102 182 287 289 217 151 179\n",
      " 272 336  11  90  35  31 167 168 331 347 304  94 307 231  42 114 359 140\n",
      " 213  15  76 240 137 246 224  25   5 292 257   7 119  89 315 189  27 136\n",
      " 294 105  28 152 266 194 155 330 313 255 144 195 216 345 212  46  67 200\n",
      " 242 267  95 123  88 277  36 270 215 203 197]\n",
      "score1 [336 301 359 309 332 236 181 216 402 259 294 220 282 317 406 417 263 390\n",
      " 425 297 212 228 150 433 305 232 290 239 274 348 201 205 313 278 208 429\n",
      " 189 224 251 394 321 352 328 325 247 255 371 441 356 375 185 193 286 267\n",
      " 162 344 410 166 270 414 367 363 445 243 398 340 464 197 456 448 379 421\n",
      " 476 383 437 387 143 158 178 170 147 139 487 154 468 483 174 460 452 135\n",
      " 472 534 526 565 553 599 491 499 503 479 603 572 530 541 495 545 108 116\n",
      " 131 123  81 127 592 112 104 510 506 119 514  89 549  92  85 100  96]\n",
      "score2 [278 259 267 410 220 224 185 321 325 178 232 352 398 328 297 305 448 286\n",
      " 541 294 379 363 301 356 340 383 243 402 247 228 216 348 336 317 263 255\n",
      " 282 472 205 162 290 239 367 208 344 375 193 189 309 313 270 170 390 212\n",
      " 359 251 274 371 197 150 387 464 236 174 406 332 143 201 437 181 421 417\n",
      " 394 476 495 479 425 166 433 139 429 441 135 414 460 491 456 452 557 615\n",
      " 131 445 154 119  96 112 104 127 158 499 147 468 510 580 487 123 506 537\n",
      " 549 483 518 514 100 553 503  92  81 116 108  77  85]\n",
      "target [True False]\n"
     ]
    }
   ],
   "source": [
    "for c in train.columns:\n",
    "    print c, train[c].unique()[:10000]"
   ]
  },
  {
   "cell_type": "code",
   "execution_count": 16,
   "metadata": {
    "collapsed": false
   },
   "outputs": [
    {
     "data": {
      "text/plain": [
       "(101609, 7)"
      ]
     },
     "execution_count": 16,
     "metadata": {},
     "output_type": "execute_result"
    }
   ],
   "source": [
    "train.shape"
   ]
  },
  {
   "cell_type": "code",
   "execution_count": 17,
   "metadata": {
    "collapsed": true
   },
   "outputs": [],
   "source": [
    "from sklearn.cross_validation import ShuffleSplit\n",
    "\n",
    "for itr, ite in ShuffleSplit(len(train), n_iter=1, train_size=0.4, test_size=0.1, random_state=0):\n",
    "    pass"
   ]
  },
  {
   "cell_type": "code",
   "execution_count": 20,
   "metadata": {
    "collapsed": false
   },
   "outputs": [
    {
     "data": {
      "text/plain": [
       "(40643, 10161)"
      ]
     },
     "execution_count": 20,
     "metadata": {},
     "output_type": "execute_result"
    }
   ],
   "source": [
    "len(itr),len(ite)"
   ]
  },
  {
   "cell_type": "code",
   "execution_count": 26,
   "metadata": {
    "collapsed": false
   },
   "outputs": [
    {
     "data": {
      "text/plain": [
       "array([22710, 41665, 91975, 57348, 39931])"
      ]
     },
     "execution_count": 26,
     "metadata": {},
     "output_type": "execute_result"
    }
   ],
   "source": [
    "itr[0:5]"
   ]
  },
  {
   "cell_type": "code",
   "execution_count": 32,
   "metadata": {
    "collapsed": false
   },
   "outputs": [
    {
     "data": {
      "text/html": [
       "<div>\n",
       "<table border=\"1\" class=\"dataframe\">\n",
       "  <thead>\n",
       "    <tr style=\"text-align: right;\">\n",
       "      <th></th>\n",
       "      <th>Id</th>\n",
       "      <th>target</th>\n",
       "    </tr>\n",
       "  </thead>\n",
       "  <tbody>\n",
       "    <tr>\n",
       "      <th>999</th>\n",
       "      <td>999</td>\n",
       "      <td>0.5</td>\n",
       "    </tr>\n",
       "  </tbody>\n",
       "</table>\n",
       "</div>"
      ],
      "text/plain": [
       "      Id  target\n",
       "999  999     0.5"
      ]
     },
     "execution_count": 32,
     "metadata": {},
     "output_type": "execute_result"
    }
   ],
   "source": [
    "sample_submission[999:1000]"
   ]
  },
  {
   "cell_type": "code",
   "execution_count": 33,
   "metadata": {
    "collapsed": false
   },
   "outputs": [
    {
     "name": "stdout",
     "output_type": "stream",
     "text": [
      "\"year\" is present in test and train\n",
      "\"day\" is NOT present in test\n",
      "\"team1\" is present in test and train\n",
      "\"team2\" is present in test and train\n",
      "\"score1\" is NOT present in test\n",
      "\"score2\" is NOT present in test\n",
      "\"target\" is NOT present in test\n"
     ]
    },
    {
     "data": {
      "text/plain": [
       "['year', 'team1', 'team2']"
      ]
     },
     "execution_count": 33,
     "metadata": {},
     "output_type": "execute_result"
    }
   ],
   "source": [
    "features = []\n",
    "for c in train.columns:\n",
    "    if c in test.columns and c!='target':\n",
    "        features += [c]\n",
    "        print '\"{}\" is present in test and train'.format(c)\n",
    "    else:\n",
    "        print '\"{}\" is NOT present in test'.format(c)\n",
    "        \n",
    "features"
   ]
  },
  {
   "cell_type": "code",
   "execution_count": 35,
   "metadata": {
    "collapsed": false
   },
   "outputs": [],
   "source": [
    "xtrain=train.loc[itr,features]\n",
    "ytrain=train.loc[itr,'target']\n",
    "\n",
    "xval=train.loc[ite,features]\n",
    "yval=train.loc[ite,'target']"
   ]
  },
  {
   "cell_type": "code",
   "execution_count": 38,
   "metadata": {
    "collapsed": false
   },
   "outputs": [
    {
     "data": {
      "text/plain": [
       "0.50096940231672393"
      ]
     },
     "execution_count": 38,
     "metadata": {},
     "output_type": "execute_result"
    }
   ],
   "source": [
    "train.target.mean()"
   ]
  },
  {
   "cell_type": "code",
   "execution_count": 39,
   "metadata": {
    "collapsed": false
   },
   "outputs": [
    {
     "data": {
      "text/plain": [
       "array([ 0.5009694,  0.5009694,  0.5009694, ...,  0.5009694,  0.5009694,\n",
       "        0.5009694])"
      ]
     },
     "execution_count": 39,
     "metadata": {},
     "output_type": "execute_result"
    }
   ],
   "source": [
    "constant_prediction = yval * 0 + train.target.mean()\n",
    "constant_prediction = constant_prediction.values\n",
    "constant_prediction"
   ]
  },
  {
   "cell_type": "code",
   "execution_count": 40,
   "metadata": {
    "collapsed": false
   },
   "outputs": [
    {
     "data": {
      "text/plain": [
       "0.6931565015839517"
      ]
     },
     "execution_count": 40,
     "metadata": {},
     "output_type": "execute_result"
    }
   ],
   "source": [
    "log_loss(yval,constant_prediction)"
   ]
  },
  {
   "cell_type": "code",
   "execution_count": 42,
   "metadata": {
    "collapsed": true
   },
   "outputs": [],
   "source": [
    "submission = sample_submission.copy()\n",
    "submission.target = train['target'].mean() # notice here that we can refer to a column 'target' in two ways\n",
    "submission.to_csv('constant_submission.csv', index=False)"
   ]
  },
  {
   "cell_type": "code",
   "execution_count": 77,
   "metadata": {
    "collapsed": false
   },
   "outputs": [
    {
     "data": {
      "text/plain": [
       "LogisticRegression(C=1, class_weight=None, dual=False, fit_intercept=True,\n",
       "          intercept_scaling=1, max_iter=100, multi_class='ovr', n_jobs=1,\n",
       "          penalty='l2', random_state=None, solver='liblinear', tol=0.0001,\n",
       "          verbose=0, warm_start=False)"
      ]
     },
     "execution_count": 77,
     "metadata": {},
     "output_type": "execute_result"
    }
   ],
   "source": [
    "alg = linear_model.LogisticRegression(C=1,penalty='l2')\n",
    "alg.fit(xtrain, ytrain)"
   ]
  },
  {
   "cell_type": "code",
   "execution_count": 78,
   "metadata": {
    "collapsed": true
   },
   "outputs": [],
   "source": [
    "prediction = alg.predict_proba(xval)[:,1]"
   ]
  },
  {
   "cell_type": "code",
   "execution_count": 79,
   "metadata": {
    "collapsed": false
   },
   "outputs": [
    {
     "data": {
      "text/plain": [
       "0.69278081748011511"
      ]
     },
     "execution_count": 79,
     "metadata": {},
     "output_type": "execute_result"
    }
   ],
   "source": [
    "\n",
    "log_loss(yval, prediction)"
   ]
  },
  {
   "cell_type": "code",
   "execution_count": 62,
   "metadata": {
    "collapsed": true
   },
   "outputs": [],
   "source": [
    "?linear_model.LogisticRegression"
   ]
  },
  {
   "cell_type": "code",
   "execution_count": null,
   "metadata": {
    "collapsed": false
   },
   "outputs": [],
   "source": [
    "alg=svm.SVC()\n",
    "alg.fit(xtrain, ytrain)"
   ]
  },
  {
   "cell_type": "code",
   "execution_count": null,
   "metadata": {
    "collapsed": true
   },
   "outputs": [],
   "source": []
  }
 ],
 "metadata": {
  "kernelspec": {
   "display_name": "Python [Root]",
   "language": "python",
   "name": "Python [Root]"
  },
  "language_info": {
   "codemirror_mode": {
    "name": "ipython",
    "version": 2
   },
   "file_extension": ".py",
   "mimetype": "text/x-python",
   "name": "python",
   "nbconvert_exporter": "python",
   "pygments_lexer": "ipython2",
   "version": "2.7.12"
  }
 },
 "nbformat": 4,
 "nbformat_minor": 0
}
