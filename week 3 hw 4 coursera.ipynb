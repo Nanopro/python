{
 "cells": [
  {
   "cell_type": "code",
   "execution_count": 59,
   "metadata": {
    "collapsed": true
   },
   "outputs": [],
   "source": [
    "import pandas as pd\n",
    "import numpy as np"
   ]
  },
  {
   "cell_type": "code",
   "execution_count": 2,
   "metadata": {
    "collapsed": true
   },
   "outputs": [],
   "source": [
    "data=pd.read_csv('classification.csv')"
   ]
  },
  {
   "cell_type": "code",
   "execution_count": 4,
   "metadata": {
    "collapsed": false
   },
   "outputs": [
    {
     "name": "stdout",
     "output_type": "stream",
     "text": [
      "   true  pred\n",
      "0     1     0\n",
      "1     1     1\n",
      "2     1     1\n",
      "3     0     0\n",
      "4     1     1 (200, 2)\n"
     ]
    }
   ],
   "source": [
    "print data.head(),data.shape"
   ]
  },
  {
   "cell_type": "code",
   "execution_count": 61,
   "metadata": {
    "collapsed": false
   },
   "outputs": [
    {
     "name": "stdout",
     "output_type": "stream",
     "text": [
      "TP (43, 2)\n",
      "FP (34, 2)\n",
      "FN (59, 2)\n",
      "TN (64, 2)\n",
      "[[43 34]\n",
      " [59 64]]\n"
     ]
    }
   ],
   "source": [
    "x=data[data.true==data.pred]\n",
    "y=data[data.true!=data.pred]\n",
    "mat=np.array([[len(x[x.true==1]),len(y[y.true==0])],[len(y[y.true==1]),len(x[x.true==0])]])\n",
    "print 'TP',x[x.true==1].shape\n",
    "print 'FP',y[y.true==0].shape\n",
    "print 'FN',y[y.true==1].shape\n",
    "print 'TN',x[x.true==0].shape\n",
    "print mat"
   ]
  },
  {
   "cell_type": "code",
   "execution_count": 67,
   "metadata": {
    "collapsed": false
   },
   "outputs": [
    {
     "name": "stdout",
     "output_type": "stream",
     "text": [
      "accuracy= 0.535\n",
      "precission= 0.558441558442\n",
      "recall= 0.421568627451\n",
      "Fscore= 0.480446927374\n"
     ]
    }
   ],
   "source": [
    "print 'accuracy=',float(len(x))/len(data)\n",
    "print 'precission=',float(mat[0,0])/(mat[0,0]+mat[0,1])\n",
    "print 'recall=',float(mat[0,0])/(mat[0,0]+mat[1,0])\n",
    "print 'Fscore=',2*(float(mat[0,0])/(mat[0,0]+mat[1,0])*float(mat[0,0]))/(mat[0,0]+mat[0,1])/(float(mat[0,0])/(mat[0,0]+mat[1,0])+float(mat[0,0])/(mat[0,0]+mat[0,1]))"
   ]
  },
  {
   "cell_type": "code",
   "execution_count": 56,
   "metadata": {
    "collapsed": false
   },
   "outputs": [],
   "source": [
    "import sklearn.metrics as m"
   ]
  },
  {
   "cell_type": "code",
   "execution_count": 135,
   "metadata": {
    "collapsed": false
   },
   "outputs": [
    {
     "name": "stdout",
     "output_type": "stream",
     "text": [
      "accuracy= 0.54\n",
      "precission= 0.56\n",
      "recall= 0.42\n",
      "Fscore= 0.48\n"
     ]
    }
   ],
   "source": [
    "print 'accuracy=',round(m.accuracy_score(data.true,data.pred),2)\n",
    "print 'precission=',round(m.precision_score(data.true,data.pred),2)\n",
    "print 'recall=',round(m.recall_score(data.true,data.pred),2)\n",
    "print 'Fscore=',round(m.f1_score(data.true,data.pred),2)"
   ]
  },
  {
   "cell_type": "code",
   "execution_count": 73,
   "metadata": {
    "collapsed": false
   },
   "outputs": [
    {
     "data": {
      "text/html": [
       "<div>\n",
       "<table border=\"1\" class=\"dataframe\">\n",
       "  <thead>\n",
       "    <tr style=\"text-align: right;\">\n",
       "      <th></th>\n",
       "      <th>true</th>\n",
       "      <th>score_logreg</th>\n",
       "      <th>score_svm</th>\n",
       "      <th>score_knn</th>\n",
       "      <th>score_tree</th>\n",
       "    </tr>\n",
       "  </thead>\n",
       "  <tbody>\n",
       "    <tr>\n",
       "      <th>0</th>\n",
       "      <td>0</td>\n",
       "      <td>0.683832</td>\n",
       "      <td>0.145976</td>\n",
       "      <td>0.787063</td>\n",
       "      <td>0.500000</td>\n",
       "    </tr>\n",
       "    <tr>\n",
       "      <th>1</th>\n",
       "      <td>1</td>\n",
       "      <td>0.801966</td>\n",
       "      <td>0.239511</td>\n",
       "      <td>1.000000</td>\n",
       "      <td>0.833333</td>\n",
       "    </tr>\n",
       "    <tr>\n",
       "      <th>2</th>\n",
       "      <td>0</td>\n",
       "      <td>0.382315</td>\n",
       "      <td>-0.245701</td>\n",
       "      <td>0.000000</td>\n",
       "      <td>0.000000</td>\n",
       "    </tr>\n",
       "    <tr>\n",
       "      <th>3</th>\n",
       "      <td>1</td>\n",
       "      <td>0.506797</td>\n",
       "      <td>-0.137058</td>\n",
       "      <td>0.000000</td>\n",
       "      <td>0.105263</td>\n",
       "    </tr>\n",
       "    <tr>\n",
       "      <th>4</th>\n",
       "      <td>1</td>\n",
       "      <td>0.488781</td>\n",
       "      <td>-0.154148</td>\n",
       "      <td>0.000000</td>\n",
       "      <td>0.105263</td>\n",
       "    </tr>\n",
       "  </tbody>\n",
       "</table>\n",
       "</div>"
      ],
      "text/plain": [
       "   true  score_logreg  score_svm  score_knn  score_tree\n",
       "0     0      0.683832   0.145976   0.787063    0.500000\n",
       "1     1      0.801966   0.239511   1.000000    0.833333\n",
       "2     0      0.382315  -0.245701   0.000000    0.000000\n",
       "3     1      0.506797  -0.137058   0.000000    0.105263\n",
       "4     1      0.488781  -0.154148   0.000000    0.105263"
      ]
     },
     "execution_count": 73,
     "metadata": {},
     "output_type": "execute_result"
    }
   ],
   "source": [
    "data2=pd.read_csv(\"scores.csv\")\n",
    "data2.head()"
   ]
  },
  {
   "cell_type": "code",
   "execution_count": 80,
   "metadata": {
    "collapsed": false,
    "scrolled": true
   },
   "outputs": [
    {
     "name": "stdout",
     "output_type": "stream",
     "text": [
      "AUC_ROC\n",
      "1 0.71918767507\n",
      "2 0.708683473389\n",
      "3 0.635154061625\n",
      "4 0.691926770708\n"
     ]
    }
   ],
   "source": [
    "pred=[data2.score_logreg,data2.score_svm,data2.score_knn,data2.score_tree]\n",
    "print 'AUC_ROC'\n",
    "for i,p in enumerate(pred):\n",
    "    print i+1,m.roc_auc_score(data2.true,p)"
   ]
  },
  {
   "cell_type": "code",
   "execution_count": 82,
   "metadata": {
    "collapsed": false
   },
   "outputs": [
    {
     "name": "stdout",
     "output_type": "stream",
     "text": [
      "Populating the interactive namespace from numpy and matplotlib\n"
     ]
    },
    {
     "name": "stderr",
     "output_type": "stream",
     "text": [
      "C:\\Users\\ewe\\Anaconda2\\lib\\site-packages\\IPython\\core\\magics\\pylab.py:161: UserWarning: pylab import has clobbered these variables: ['mat']\n",
      "`%matplotlib` prevents importing * from pylab and numpy\n",
      "  \"\\n`%matplotlib` prevents importing * from pylab and numpy\"\n"
     ]
    }
   ],
   "source": [
    "%pylab inline"
   ]
  },
  {
   "cell_type": "code",
   "execution_count": 139,
   "metadata": {
    "collapsed": false
   },
   "outputs": [
    {
     "data": {
      "text/plain": [
       "<matplotlib.legend.Legend at 0xef95940>"
      ]
     },
     "execution_count": 139,
     "metadata": {},
     "output_type": "execute_result"
    },
    {
     "data": {
      "image/png": "[encoded data removed]",
      "text/plain": [
       "<matplotlib.figure.Figure at 0xcdd50b8>"
      ]
     },
     "metadata": {},
     "output_type": "display_data"
    }
   ],
   "source": [
    "w=[]\n",
    "for p in pred:\n",
    "    w.append(m.precision_recall_curve(data2.true,p))\n",
    "pylab.figure(0)\n",
    "pylab.plot(w[0][1],w[0][0],c='g',marker='.',label='LogReg')\n",
    "pylab.plot(w[1][1],w[1][0],c='b',marker='.',label='SVM')\n",
    "pylab.plot(w[2][1],w[2][0],c='y',marker='.',label='knn')\n",
    "pylab.plot(w[3][1],w[3][0],c='r',marker='.',label='Tree')\n",
    "pylab.axis([0,1,0.4,1])\n",
    "pylab.legend()"
   ]
  },
  {
   "cell_type": "code",
   "execution_count": 133,
   "metadata": {
    "collapsed": false
   },
   "outputs": [
    {
     "name": "stdout",
     "output_type": "stream",
     "text": [
      "Precision with condition of recall > 0.7\n",
      "algo # 1 0.63025210084\n",
      "algo # 2 0.622807017544\n",
      "algo # 3 0.606557377049\n",
      "algo # 4 0.651785714286\n"
     ]
    }
   ],
   "source": [
    "print 'Precision with condition of recall > 0.7'\n",
    "for i,l in enumerate(w):\n",
    "    print 'algo #',i+1,l[0][l[1]>0.7].max()"
   ]
  },
  {
   "cell_type": "code",
   "execution_count": null,
   "metadata": {
    "collapsed": true
   },
   "outputs": [],
   "source": []
  }
 ],
 "metadata": {
  "kernelspec": {
   "display_name": "Python [conda root]",
   "language": "python",
   "name": "conda-root-py"
  },
  "language_info": {
   "codemirror_mode": {
    "name": "ipython",
    "version": 2
   },
   "file_extension": ".py",
   "mimetype": "text/x-python",
   "name": "python",
   "nbconvert_exporter": "python",
   "pygments_lexer": "ipython2",
   "version": "2.7.12"
  }
 },
 "nbformat": 4,
 "nbformat_minor": 1
}
